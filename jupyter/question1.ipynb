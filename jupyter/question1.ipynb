{
 "cells": [
  {
   "cell_type": "code",
   "execution_count": 1,
   "id": "e5d62e02",
   "metadata": {},
   "outputs": [],
   "source": [
    "import pandas as pd\n",
    "from code.preprocessing import *\n",
    "from code.analytics import *"
   ]
  },
  {
   "cell_type": "code",
   "execution_count": 2,
   "id": "f2a51fd4",
   "metadata": {},
   "outputs": [
    {
     "name": "stdout",
     "output_type": "stream",
     "text": [
      "        dates outcome.winner      teams  matchid\n",
      "0  2017-01-13      Australia  Australia  1000887\n",
      "1  2017-01-13      Australia   Pakistan  1000887\n",
      "2  2017-01-15       Pakistan  Australia  1000889\n",
      "3  2017-01-15       Pakistan   Pakistan  1000889\n",
      "4  2017-01-19      Australia  Australia  1000891 \n",
      "           dates outcome.winner         teams  matchid\n",
      "156  2017-01-18   South Africa    Bangladesh  1041523\n",
      "157  2017-01-18   South Africa  South Africa  1041523\n",
      "158  2017-01-20   South Africa    Bangladesh  1041525\n",
      "159  2017-01-20   South Africa  South Africa  1041525\n",
      "160  2016-11-18      Australia     Australia  1043953\n"
     ]
    }
   ],
   "source": [
    "match_results_df = pd.read_json('../data/raw/match_results.json')\n",
    "match_results_df = cleanse_match_results(match_results_df)\n",
    "mens_results, womens_results = split_by_gender(match_results_df)\n",
    "print(mens_results.head(), '\\n', womens_results.head())\n",
    "mens_results.to_csv('../data/clean/mens_results.csv')\n",
    "womens_results.to_csv('../data/clean/womens_results.csv')"
   ]
  },
  {
   "cell_type": "code",
   "execution_count": 3,
   "id": "c87857eb",
   "metadata": {},
   "outputs": [
    {
     "name": "stdout",
     "output_type": "stream",
     "text": [
      "   Year         Team TotalGames TotalWins      Win%\n",
      "0  2019    Australia         23        16  0.695652\n",
      "0  2019        India         23        15  0.652174\n",
      "0  2019      England         20        14  0.700000\n",
      "0  2019  New Zealand         20        13  0.650000\n",
      "0  2019  West Indies         22        10  0.454545\n",
      "   Year                      Team TotalGames TotalWins      Win%\n",
      "0  2019               Netherlands          1         1  1.000000\n",
      "0  2019                   Namibia          4         3  0.750000\n",
      "0  2019  United States of America          7         5  0.714286\n",
      "0  2019                   England         20        14  0.700000\n",
      "0  2019                 Australia         23        16  0.695652\n"
     ]
    }
   ],
   "source": [
    "mens_summary = assemble_yearly_summaries_per_team(mens_results)\n",
    "mens_summary = mens_summary.loc[mens_summary['Year'] == '2019']\n",
    "mens_summary.to_csv('../data/results/mens_summary_2019.csv')\n",
    "print(mens_summary.sort_values(by=['TotalWins'], ascending=False).head())\n",
    "print(mens_summary.sort_values(by=['Win%'], ascending=False).head())"
   ]
  },
  {
   "cell_type": "code",
   "execution_count": 4,
   "id": "5e325cba",
   "metadata": {},
   "outputs": [
    {
     "name": "stdout",
     "output_type": "stream",
     "text": [
      "   Year          Team TotalGames TotalWins      Win%\n",
      "0  2019     Australia         10        10  1.000000\n",
      "0  2019         India         11         9  0.818182\n",
      "0  2019       England         11         6  0.545455\n",
      "0  2019  South Africa          7         3  0.428571\n",
      "0  2019      Pakistan          6         2  0.333333\n",
      "   Year          Team TotalGames TotalWins      Win%\n",
      "0  2019     Australia         10        10  1.000000\n",
      "0  2019         India         11         9  0.818182\n",
      "0  2019       England         11         6  0.545455\n",
      "0  2019  South Africa          7         3  0.428571\n",
      "0  2019      Pakistan          6         2  0.333333\n"
     ]
    }
   ],
   "source": [
    "womens_summary = assemble_yearly_summaries_per_team(womens_results)\n",
    "womens_summary = womens_summary.loc[womens_summary['Year'] == '2019']\n",
    "womens_summary.to_csv('../data/results/womens_summary_2019.csv')\n",
    "print(womens_summary.sort_values(by=['TotalWins'], ascending=False).head())\n",
    "print(womens_summary.sort_values(by=['Win%'], ascending=False).head())"
   ]
  },
  {
   "cell_type": "code",
   "execution_count": null,
   "id": "704e918a",
   "metadata": {},
   "outputs": [],
   "source": []
  }
 ],
 "metadata": {
  "kernelspec": {
   "display_name": "Python 3",
   "language": "python",
   "name": "python3"
  },
  "language_info": {
   "codemirror_mode": {
    "name": "ipython",
    "version": 3
   },
   "file_extension": ".py",
   "mimetype": "text/x-python",
   "name": "python",
   "nbconvert_exporter": "python",
   "pygments_lexer": "ipython3",
   "version": "3.10.0"
  },
  "vscode": {
   "interpreter": {
    "hash": "95b1cba17b8d4136d0cdc0542700b120c697bdcdd6ab684b98e6cff96bb6404b"
   }
  }
 },
 "nbformat": 4,
 "nbformat_minor": 5
}

{
 "cells": [
  {
   "cell_type": "code",
   "execution_count": 1,
   "id": "e5d62e02",
   "metadata": {},
   "outputs": [],
   "source": [
    "import pandas as pd\n",
    "from code.preprocessing import *\n",
    "from code.analytics import *"
   ]
  },
  {
   "cell_type": "code",
   "execution_count": 4,
   "id": "f2a51fd4",
   "metadata": {},
   "outputs": [],
   "source": [
    "match_results_df = pd.read_json('../data/raw/match_results.json')\n",
    "innings_results_df = pd.read_json('../data/raw/innings_results.json')\n",
    "innings_results_df = cleanse_innings_results(innings_results_df, match_results_df)\n",
    "innings_results_df.to_csv('../data/clean/innings_results.csv')"
   ]
  },
  {
   "cell_type": "code",
   "execution_count": 2,
   "id": "9dd66ad0",
   "metadata": {},
   "outputs": [
    {
     "name": "stderr",
     "output_type": "stream",
     "text": [
      "C:\\Users\\Stephanos\\AppData\\Local\\Temp\\ipykernel_22084\\2905146506.py:1: DtypeWarning: Columns (19,20,21,22,27,28,29,30,31,32,33,34) have mixed types. Specify dtype option on import or set low_memory=False.\n",
      "  innings_results_df = pd.read_csv('../data/clean/innings_results.csv')\n",
      "C:\\Users\\Stephanos\\AppData\\Local\\Temp\\ipykernel_22084\\2905146506.py:3: DtypeWarning: Columns (19,20,21,22,27,28,29,30,31,32,33,34) have mixed types. Specify dtype option on import or set low_memory=False.\n",
      "  pd.read_csv('../data/clean/innings_results.csv', index_col=0)\n"
     ]
    }
   ],
   "source": [
    "innings_results_df = pd.read_csv('../data/clean/innings_results.csv', index_col=0)\n",
    "overs_summary_df = assemble_over_statistics(innings_results_df)\n",
    "overs_summary_df.to_csv('../data/results/over_summary.csv')"
   ]
  },
  {
   "cell_type": "code",
   "execution_count": null,
   "id": "792ca697",
   "metadata": {},
   "outputs": [],
   "source": []
  }
 ],
 "metadata": {
  "kernelspec": {
   "display_name": "Python 3",
   "language": "python",
   "name": "python3"
  },
  "language_info": {
   "codemirror_mode": {
    "name": "ipython",
    "version": 3
   },
   "file_extension": ".py",
   "mimetype": "text/x-python",
   "name": "python",
   "nbconvert_exporter": "python",
   "pygments_lexer": "ipython3",
   "version": "3.10.0"
  },
  "vscode": {
   "interpreter": {
    "hash": "95b1cba17b8d4136d0cdc0542700b120c697bdcdd6ab684b98e6cff96bb6404b"
   }
  }
 },
 "nbformat": 4,
 "nbformat_minor": 5
}
